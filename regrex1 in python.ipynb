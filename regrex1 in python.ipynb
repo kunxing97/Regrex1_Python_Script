{
 "cells": [
  {
   "cell_type": "code",
   "execution_count": 1,
   "id": "unnecessary-neighbor",
   "metadata": {},
   "outputs": [
    {
     "ename": "ERROR",
     "evalue": "Error in parse(text = x, srcfile = src): <text>:1:8: unexpected symbol\n1: import pandas\n           ^\n",
     "output_type": "error",
     "traceback": [
      "Error in parse(text = x, srcfile = src): <text>:1:8: unexpected symbol\n1: import pandas\n           ^\nTraceback:\n"
     ]
    }
   ],
   "source": [
    "import pandas as pd"
   ]
  },
  {
   "cell_type": "code",
   "execution_count": null,
   "id": "exact-winning",
   "metadata": {},
   "outputs": [],
   "source": [
    "regrex1 = pd.read_csv(\"regrex1.csv\")"
   ]
  },
  {
   "cell_type": "code",
   "execution_count": null,
   "id": "congressional-magazine",
   "metadata": {},
   "outputs": [],
   "source": [
    "print(regrex1)"
   ]
  },
  {
   "cell_type": "code",
   "execution_count": null,
   "id": "approved-memory",
   "metadata": {},
   "outputs": [],
   "source": [
    "regrex1.plot.scatter(x='x',y='y', title='Scatter Plot in Python')"
   ]
  },
  {
   "cell_type": "code",
   "execution_count": null,
   "id": "wound-picnic",
   "metadata": {},
   "outputs": [],
   "source": [
    "print (\"done\")"
   ]
  }
 ],
 "metadata": {
  "kernelspec": {
   "display_name": "Python 3",
   "language": "python",
   "name": "python3"
  },
  "language_info": {
   "codemirror_mode": "r",
   "file_extension": ".r",
   "mimetype": "text/x-r-source",
   "name": "R",
   "pygments_lexer": "r",
   "version": "4.0.1"
  }
 },
 "nbformat": 4,
 "nbformat_minor": 5
}
