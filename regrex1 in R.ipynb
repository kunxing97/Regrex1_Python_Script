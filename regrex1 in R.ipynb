{
 "cells": [
  {
   "cell_type": "code",
   "execution_count": 1,
   "id": "unnecessary-neighbor",
   "metadata": {},
   "outputs": [
    {
     "ename": "ERROR",
     "evalue": "Error in parse(text = x, srcfile = src): <text>:1:8: unexpected symbol\n1: import pandas\n           ^\n",
     "output_type": "error",
     "traceback": [
      "Error in parse(text = x, srcfile = src): <text>:1:8: unexpected symbol\n1: import pandas\n           ^\nTraceback:\n"
     ]
    }
   ],
   "source": [
    "import pandas as pd"
   ]
  },
  {
   "cell_type": "code",
   "execution_count": null,
   "id": "exact-winning",
   "metadata": {},
   "outputs": [],
   "source": [
    "regrex1 = pd.read_csv(\"regrex1.csv\")"
   ]
  },
  {
   "cell_type": "code",
   "execution_count": null,
   "id": "congressional-magazine",
   "metadata": {},
   "outputs": [],
   "source": [
    "print(regrex1)"
   ]
  },
  {
   "cell_type": "code",
   "execution_count": null,
   "id": "approved-memory",
   "metadata": {},
   "outputs": [],
   "source": [
    "regrex1.plot.scatter(x='x',y='y', title='Scatter Plot in Python')"
   ]
  },
  {
   "cell_type": "code",
   "execution_count": null,
   "id": "wound-picnic",
   "metadata": {},
   "outputs": [],
   "source": [
    "print (\"done\")"
   ]
  },
  {
   "cell_type": "code",
   "execution_count": 1,
   "id": "mineral-faculty",
   "metadata": {},
   "outputs": [
    {
     "name": "stdout",
     "output_type": "stream",
     "text": [
      "R\n"
     ]
    }
   ],
   "source": [
    "print (\"R\")"
   ]
  },
  {
   "cell_type": "code",
   "execution_count": null,
   "id": "joined-siemens",
   "metadata": {},
   "outputs": [],
   "source": []
  }
 ],
 "metadata": {
  "kernelspec": {
   "display_name": "Python 3",
   "language": "python",
   "name": "python3"
  },
  "language_info": {
   "codemirror_mode": {
    "name": "ipython",
    "version": 3
   },
   "file_extension": ".py",
   "mimetype": "text/x-python",
   "name": "python",
   "nbconvert_exporter": "python",
   "pygments_lexer": "ipython3",
   "version": "3.8.8"
  }
 },
 "nbformat": 4,
 "nbformat_minor": 5
}
